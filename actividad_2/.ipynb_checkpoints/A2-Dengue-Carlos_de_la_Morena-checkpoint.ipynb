{
 "cells": [
  {
   "cell_type": "markdown",
   "metadata": {},
   "source": [
    "###########################################################################################################\n",
    "\n",
    "# Actividad 2 - Casos de Dengue\n",
    "#### Segunda práctica de la asignatura de Machine Learning del Máster Universitario en Big Data y Data Science\n",
    "#### Hecho por el estudiante:\n",
    "\n",
    "- Carlos de la Morena Coco\n",
    "\n",
    "###########################################################################################################"
   ]
  },
  {
   "cell_type": "markdown",
   "metadata": {},
   "source": [
    "En este notebook, vamos a resolver el ejercicio planteado para intentar predecir el número de casos semanales de dengue dadas unas determinadas circunstancias."
   ]
  },
  {
   "cell_type": "markdown",
   "metadata": {},
   "source": [
    "Dado que estamos intentando predecir un número, se trata de un problema de regresión"
   ]
  },
  {
   "cell_type": "markdown",
   "metadata": {},
   "source": [
    "Los datos han sido obtenidos de [esta](https://www.drivendata.org/competitions/44/dengai-predicting-disease-spread/) competición de Driven Data"
   ]
  },
  {
   "cell_type": "markdown",
   "metadata": {},
   "source": [
    "## 1. Definición del problema\n",
    "Para este dataset, el problema que estamos intentando resolver (o mejor dicho, la preguntaque estamos intentando resolver) es: dadas ciertas circunstancias en una ciudad concreta en una semana del año, cuántos casos de dengue habrá esa semana?\n",
    "\n"
   ]
  },
  {
   "cell_type": "markdown",
   "metadata": {},
   "source": [
    "## 2. Datos\n",
    "Estudiando el dataset de drivendata, podemos apreciar que se trata de una serie temporal. esto quiere decir que hay un atributo de tiempo en el dataset.\n",
    "\n",
    "En este caso, son datos históricos de dengue, incluyendo campos como la fecha del inicio de semana, el número de casos y condiciones climáticas como la temperatura del aire, la humedad, las precipitaciones, etc.\n",
    "\n",
    "Tenemos 3 datasets:\n",
    "1. **dengue_features_train.csv** - información histórica en dos ciudades sobre las condiciones climáticas, cada semana desde el 30 de abril de 1990 hasta el 25 de junio de 2010. Tenemos 1456 muestras con 24 atributos cada una.\n",
    "2. **dengue_labels_train.csv** - las etiquetas correspondientes a las muestras del archivo nombrado anteriormente.\n",
    "3. **dengue_features_test.csv** - este archivo es similar al primero, conteniendo entradas de las mismas características pero desde el 29 de abril de 2008 hasta el 25 de junio de 2013. Las muestras que coinciden en tiempo con el primer archivo pertenecen a otra ciudad, de forma que no hay muestras repetidas."
   ]
  },
  {
   "cell_type": "markdown",
   "metadata": {},
   "source": [
    "## 3. Evaluación\n",
    "Para este problema, [DrivenData ha seleccionado el error medio absoluto (MAE por sus siglas en inglés)](https://www.drivendata.org/competitions/44/dengai-predicting-disease-spread/submissions/)(ver apartado \"Primary Evaluation Metric\"). Como es lo propio en las evaluaciones de regresión, nuestro objetivo será minimizar este error lo máximo posible.\n",
    "\n",
    "Para evaluar nuestro modelo, calcularemos el MAE y lo compararemos con los demás resultados de la [leaderboard](https://www.drivendata.org/competitions/44/dengai-predicting-disease-spread/leaderboard/)"
   ]
  },
  {
   "cell_type": "markdown",
   "metadata": {},
   "source": [
    "## 4. Parámetros\n",
    "\n",
    "Los parámetros son las distintas partes de los datos. En este paso, intentaremos saber lo todo lo que podamos sobre nuestros datos.\n",
    "\n",
    "Para este dataset, DrivenData nos ofrece un [diccionario de datos](https://www.drivendata.org/competitions/44/dengai-predicting-disease-spread/page/82/), en el cual nos explica el significado de cada atributo."
   ]
  },
  {
   "cell_type": "markdown",
   "metadata": {},
   "source": [
    "### Importación de datos y preparación para la modelación"
   ]
  },
  {
   "cell_type": "code",
   "execution_count": 2,
   "metadata": {},
   "outputs": [],
   "source": [
    "# Importación de herramientas de análisis de datos\n",
    "import pandas as pd\n",
    "import numpy as np\n",
    "import matplotlib.pyplot as plt"
   ]
  },
  {
   "cell_type": "markdown",
   "metadata": {},
   "source": [
    "Ahora que tenemos nuestras herramientas de análisis de datos preparadas, podemos importar los datos y empezar a explorarlos.\n",
    "\n",
    "Para este proyecto, hemos [descargado los datos de DrivenData](https://www.drivendata.org/competitions/44/dengai-predicting-disease-spread/data/) y los hemos guardado en la carpeta `\"dengue_data/\"`."
   ]
  },
  {
   "cell_type": "code",
   "execution_count": 3,
   "metadata": {},
   "outputs": [],
   "source": [
    "# Importamos el dataset de información histórica y el de las etiquetas correspondientes\n",
    "\n",
    "df_features = pd.read_csv(\"dengue_data/dengue_features_train.csv\")\n",
    "df_labels = pd.read_csv(\"dengue_data/dengue_labels_train.csv\")"
   ]
  },
  {
   "cell_type": "code",
   "execution_count": 4,
   "metadata": {},
   "outputs": [
    {
     "name": "stdout",
     "output_type": "stream",
     "text": [
      "<class 'pandas.core.frame.DataFrame'>\n",
      "RangeIndex: 1456 entries, 0 to 1455\n",
      "Data columns (total 24 columns):\n",
      " #   Column                                 Non-Null Count  Dtype  \n",
      "---  ------                                 --------------  -----  \n",
      " 0   city                                   1456 non-null   object \n",
      " 1   year                                   1456 non-null   int64  \n",
      " 2   weekofyear                             1456 non-null   int64  \n",
      " 3   week_start_date                        1456 non-null   object \n",
      " 4   ndvi_ne                                1262 non-null   float64\n",
      " 5   ndvi_nw                                1404 non-null   float64\n",
      " 6   ndvi_se                                1434 non-null   float64\n",
      " 7   ndvi_sw                                1434 non-null   float64\n",
      " 8   precipitation_amt_mm                   1443 non-null   float64\n",
      " 9   reanalysis_air_temp_k                  1446 non-null   float64\n",
      " 10  reanalysis_avg_temp_k                  1446 non-null   float64\n",
      " 11  reanalysis_dew_point_temp_k            1446 non-null   float64\n",
      " 12  reanalysis_max_air_temp_k              1446 non-null   float64\n",
      " 13  reanalysis_min_air_temp_k              1446 non-null   float64\n",
      " 14  reanalysis_precip_amt_kg_per_m2        1446 non-null   float64\n",
      " 15  reanalysis_relative_humidity_percent   1446 non-null   float64\n",
      " 16  reanalysis_sat_precip_amt_mm           1443 non-null   float64\n",
      " 17  reanalysis_specific_humidity_g_per_kg  1446 non-null   float64\n",
      " 18  reanalysis_tdtr_k                      1446 non-null   float64\n",
      " 19  station_avg_temp_c                     1413 non-null   float64\n",
      " 20  station_diur_temp_rng_c                1413 non-null   float64\n",
      " 21  station_max_temp_c                     1436 non-null   float64\n",
      " 22  station_min_temp_c                     1442 non-null   float64\n",
      " 23  station_precip_mm                      1434 non-null   float64\n",
      "dtypes: float64(20), int64(2), object(2)\n",
      "memory usage: 273.1+ KB\n"
     ]
    }
   ],
   "source": [
    "df_features.info()"
   ]
  },
  {
   "cell_type": "code",
   "execution_count": 5,
   "metadata": {},
   "outputs": [
    {
     "name": "stdout",
     "output_type": "stream",
     "text": [
      "<class 'pandas.core.frame.DataFrame'>\n",
      "RangeIndex: 1456 entries, 0 to 1455\n",
      "Data columns (total 4 columns):\n",
      " #   Column       Non-Null Count  Dtype \n",
      "---  ------       --------------  ----- \n",
      " 0   city         1456 non-null   object\n",
      " 1   year         1456 non-null   int64 \n",
      " 2   weekofyear   1456 non-null   int64 \n",
      " 3   total_cases  1456 non-null   int64 \n",
      "dtypes: int64(3), object(1)\n",
      "memory usage: 45.6+ KB\n"
     ]
    }
   ],
   "source": [
    "df_labels.info()"
   ]
  },
  {
   "cell_type": "code",
   "execution_count": 6,
   "metadata": {},
   "outputs": [
    {
     "data": {
      "text/plain": [
       "<matplotlib.collections.PathCollection at 0x7f7809805190>"
      ]
     },
     "execution_count": 6,
     "metadata": {},
     "output_type": "execute_result"
    },
    {
     "data": {
      "image/png": "[encoded data removed]",
      "text/plain": [
       "<Figure size 432x288 with 1 Axes>"
      ]
     },
     "metadata": {
      "needs_background": "light"
     },
     "output_type": "display_data"
    }
   ],
   "source": [
    "fix, ax = plt.subplots()\n",
    "ax.scatter(df_features[\"week_start_date\"], df_labels[\"total_cases\"])"
   ]
  },
  {
   "cell_type": "code",
   "execution_count": 7,
   "metadata": {},
   "outputs": [
    {
     "data": {
      "text/plain": [
       "<AxesSubplot:ylabel='Frequency'>"
      ]
     },
     "execution_count": 7,
     "metadata": {},
     "output_type": "execute_result"
    },
    {
     "data": {
      "image/png": "[encoded data removed]",
      "text/plain": [
       "<Figure size 432x288 with 1 Axes>"
      ]
     },
     "metadata": {
      "needs_background": "light"
     },
     "output_type": "display_data"
    }
   ],
   "source": [
    "df_labels.total_cases.plot.hist()"
   ]
  },
  {
   "cell_type": "code",
   "execution_count": null,
   "metadata": {},
   "outputs": [],
   "source": []
  }
 ],
 "metadata": {
  "kernelspec": {
   "display_name": "Python 3",
   "language": "python",
   "name": "python3"
  },
  "language_info": {
   "codemirror_mode": {
    "name": "ipython",
    "version": 3
   },
   "file_extension": ".py",
   "mimetype": "text/x-python",
   "name": "python",
   "nbconvert_exporter": "python",
   "pygments_lexer": "ipython3",
   "version": "3.8.10"
  }
 },
 "nbformat": 4,
 "nbformat_minor": 4
}
